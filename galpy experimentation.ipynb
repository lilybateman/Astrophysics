{
 "cells": [
  {
   "cell_type": "code",
   "execution_count": null,
   "metadata": {},
   "outputs": [],
   "source": [
    "from galpy.df import dehnendf\n",
    "dfc1= dehnendf(beta=0.)\n",
    "o= dfc1.sample(n=1000,returnOrbit=True,nphi=1,rrange=[0.8,1.2])\n",
    "xs= [e.x() for e in o]\n",
    "ys= [e.y() for e in o]\n",
    "\n",
    "for i in range(len(xs)):\n",
    "    for j in range(ys):\n",
    "        if (xs[i]**2+ys[j]**2)**(1/2) > 1:\n",
    "            pop(xs[i]) and pop(ys[j])\n",
    "            else:\n",
    "                pass\n",
    " \n",
    "figure()\n",
    "plot(xs,ys,',')\n",
    "\n",
    "\n"
   ]
  },
  {
   "cell_type": "code",
   "execution_count": null,
   "metadata": {},
   "outputs": [],
   "source": [
    "from galpy.potential import PowerSphericalPotential\n",
    "lp= PowerSphericalPotential(amp=1.,alpha=1.,normalize=True,r1=1.,ro=None,vo=None)\n",
    "\n",
    "import numpy\n",
    "from astropy import units\n",
    "ts= numpy.linspace(0,10.,10000)*units.Gyr\n",
    "\n",
    "o.integrate(ts,lp)\n",
    "o.plot()\n",
    "\n",
    "\n"
   ]
  },
  {
   "cell_type": "code",
   "execution_count": null,
   "metadata": {},
   "outputs": [],
   "source": [
    "\n"
   ]
  },
  {
   "cell_type": "code",
   "execution_count": null,
   "metadata": {},
   "outputs": [],
   "source": [
    "\n"
   ]
  },
  {
   "cell_type": "code",
   "execution_count": null,
   "metadata": {},
   "outputs": [],
   "source": []
  },
  {
   "cell_type": "code",
   "execution_count": null,
   "metadata": {},
   "outputs": [],
   "source": []
  },
  {
   "cell_type": "code",
   "execution_count": null,
   "metadata": {},
   "outputs": [],
   "source": []
  },
  {
   "cell_type": "code",
   "execution_count": null,
   "metadata": {},
   "outputs": [],
   "source": []
  },
  {
   "cell_type": "code",
   "execution_count": null,
   "metadata": {},
   "outputs": [],
   "source": []
  },
  {
   "cell_type": "code",
   "execution_count": null,
   "metadata": {},
   "outputs": [],
   "source": []
  }
 ],
 "metadata": {
  "kernelspec": {
   "display_name": "Python 3",
   "language": "python",
   "name": "python3"
  },
  "language_info": {
   "codemirror_mode": {
    "name": "ipython",
    "version": 3
   },
   "file_extension": ".py",
   "mimetype": "text/x-python",
   "name": "python",
   "nbconvert_exporter": "python",
   "pygments_lexer": "ipython3",
   "version": "3.7.4"
  }
 },
 "nbformat": 4,
 "nbformat_minor": 2
}
